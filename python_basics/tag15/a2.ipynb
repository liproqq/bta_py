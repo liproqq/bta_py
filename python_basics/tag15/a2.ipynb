{
 "cells": [
  {
   "cell_type": "markdown",
   "metadata": {},
   "source": [
    "Aufgabe:\n",
    "Gib dir die einzigartigen Einträge der 'Ethnicity' für 2012 aus.\n",
    "Gib dir die einzigartigen Einträge der 'Ethnicity' für alle Jahre außer 2012 aus."
   ]
  },
  {
   "cell_type": "code",
   "execution_count": 14,
   "metadata": {},
   "outputs": [],
   "source": [
    "from pathlib import Path\n",
    "import pandas as pd\n",
    "\n",
    "baby_names_file = Path() / \"data/baby_names.csv\"\n",
    "\n",
    "df = pd.read_csv(baby_names_file)"
   ]
  },
  {
   "cell_type": "code",
   "execution_count": 15,
   "metadata": {},
   "outputs": [],
   "source": [
    "to_repl =df[df[\"Year of Birth\"] == 2012][\"Ethnicity\"].unique()"
   ]
  },
  {
   "cell_type": "code",
   "execution_count": 16,
   "metadata": {},
   "outputs": [],
   "source": [
    "repl_with = df[df[\"Year of Birth\"] != 2012][\"Ethnicity\"].unique()"
   ]
  },
  {
   "cell_type": "code",
   "execution_count": 17,
   "metadata": {},
   "outputs": [],
   "source": [
    "for i in range(len(to_repl)):\n",
    "    b_series = df['Ethnicity'] == to_repl[i]\n",
    "    df.loc[b_series, 'Ethnicity'] = repl_with[i]"
   ]
  },
  {
   "cell_type": "code",
   "execution_count": 18,
   "metadata": {},
   "outputs": [],
   "source": [
    "df.to_csv(baby_names_file.parent.joinpath(\"clean_baby_names.csv\"), index=False)"
   ]
  },
  {
   "cell_type": "code",
   "execution_count": null,
   "metadata": {},
   "outputs": [],
   "source": []
  }
 ],
 "metadata": {
  "language_info": {
   "codemirror_mode": {
    "name": "ipython",
    "version": 3
   },
   "file_extension": ".py",
   "mimetype": "text/x-python",
   "name": "python",
   "nbconvert_exporter": "python",
   "pygments_lexer": "ipython3",
   "version": "3.8.3-final"
  },
  "orig_nbformat": 2,
  "kernelspec": {
   "name": "python38332bitf218951a9e134d92b6313e3e3a3358bd",
   "display_name": "Python 3.8.3 32-bit"
  }
 },
 "nbformat": 4,
 "nbformat_minor": 2
}