{
 "cells": [
  {
   "cell_type": "markdown",
   "metadata": {},
   "source": [
    "Aufgabe:\n",
    "Gib die Top 3 weiblichen Namen für jede 'Ethnicity' aus.\n",
    "Nutze die bereinigte CSV."
   ]
  },
  {
   "cell_type": "code",
   "execution_count": 3,
   "metadata": {},
   "outputs": [],
   "source": [
    "from pathlib import Path\n",
    "import pandas as pd\n",
    "\n",
    "data_path = Path() / \"data\"\n",
    "clean_baby_names = Path() / \"data/clean_baby_names.csv\"\n",
    "\n",
    "df = pd.read_csv(clean_baby_names)"
   ]
  },
  {
   "cell_type": "code",
   "execution_count": 52,
   "metadata": {},
   "outputs": [
    {
     "output_type": "execute_result",
     "data": {
      "text/plain": "       Year of Birth  Gender                   Ethnicity Child's First Name  \\\n0               2016  FEMALE  ASIAN AND PACIFIC ISLANDER             Olivia   \n1               2016  FEMALE  ASIAN AND PACIFIC ISLANDER              Chloe   \n2               2016  FEMALE  ASIAN AND PACIFIC ISLANDER             Sophia   \n182             2016  FEMALE          BLACK NON HISPANIC                Ava   \n183             2016  FEMALE          BLACK NON HISPANIC            Madison   \n...              ...     ...                         ...                ...   \n16841           2011  FEMALE          WHITE NON HISPANIC             OLIVIA   \n16842           2011  FEMALE          WHITE NON HISPANIC             OLIVIA   \n16843           2011  FEMALE          WHITE NON HISPANIC               EMMA   \n16844           2011  FEMALE          WHITE NON HISPANIC               LEAH   \n16845           2011  FEMALE          WHITE NON HISPANIC               LEAH   \n\n       Count  Rank  \n0        172     1  \n1        112     2  \n2        104     3  \n182      109     1  \n183      104     2  \n...      ...   ...  \n16841    213     2  \n16842    213     2  \n16843    213     2  \n16844    183     3  \n16845    183     3  \n\n[104 rows x 6 columns]",
      "text/html": "<div>\n<style scoped>\n    .dataframe tbody tr th:only-of-type {\n        vertical-align: middle;\n    }\n\n    .dataframe tbody tr th {\n        vertical-align: top;\n    }\n\n    .dataframe thead th {\n        text-align: right;\n    }\n</style>\n<table border=\"1\" class=\"dataframe\">\n  <thead>\n    <tr style=\"text-align: right;\">\n      <th></th>\n      <th>Year of Birth</th>\n      <th>Gender</th>\n      <th>Ethnicity</th>\n      <th>Child's First Name</th>\n      <th>Count</th>\n      <th>Rank</th>\n    </tr>\n  </thead>\n  <tbody>\n    <tr>\n      <th>0</th>\n      <td>2016</td>\n      <td>FEMALE</td>\n      <td>ASIAN AND PACIFIC ISLANDER</td>\n      <td>Olivia</td>\n      <td>172</td>\n      <td>1</td>\n    </tr>\n    <tr>\n      <th>1</th>\n      <td>2016</td>\n      <td>FEMALE</td>\n      <td>ASIAN AND PACIFIC ISLANDER</td>\n      <td>Chloe</td>\n      <td>112</td>\n      <td>2</td>\n    </tr>\n    <tr>\n      <th>2</th>\n      <td>2016</td>\n      <td>FEMALE</td>\n      <td>ASIAN AND PACIFIC ISLANDER</td>\n      <td>Sophia</td>\n      <td>104</td>\n      <td>3</td>\n    </tr>\n    <tr>\n      <th>182</th>\n      <td>2016</td>\n      <td>FEMALE</td>\n      <td>BLACK NON HISPANIC</td>\n      <td>Ava</td>\n      <td>109</td>\n      <td>1</td>\n    </tr>\n    <tr>\n      <th>183</th>\n      <td>2016</td>\n      <td>FEMALE</td>\n      <td>BLACK NON HISPANIC</td>\n      <td>Madison</td>\n      <td>104</td>\n      <td>2</td>\n    </tr>\n    <tr>\n      <th>...</th>\n      <td>...</td>\n      <td>...</td>\n      <td>...</td>\n      <td>...</td>\n      <td>...</td>\n      <td>...</td>\n    </tr>\n    <tr>\n      <th>16841</th>\n      <td>2011</td>\n      <td>FEMALE</td>\n      <td>WHITE NON HISPANIC</td>\n      <td>OLIVIA</td>\n      <td>213</td>\n      <td>2</td>\n    </tr>\n    <tr>\n      <th>16842</th>\n      <td>2011</td>\n      <td>FEMALE</td>\n      <td>WHITE NON HISPANIC</td>\n      <td>OLIVIA</td>\n      <td>213</td>\n      <td>2</td>\n    </tr>\n    <tr>\n      <th>16843</th>\n      <td>2011</td>\n      <td>FEMALE</td>\n      <td>WHITE NON HISPANIC</td>\n      <td>EMMA</td>\n      <td>213</td>\n      <td>2</td>\n    </tr>\n    <tr>\n      <th>16844</th>\n      <td>2011</td>\n      <td>FEMALE</td>\n      <td>WHITE NON HISPANIC</td>\n      <td>LEAH</td>\n      <td>183</td>\n      <td>3</td>\n    </tr>\n    <tr>\n      <th>16845</th>\n      <td>2011</td>\n      <td>FEMALE</td>\n      <td>WHITE NON HISPANIC</td>\n      <td>LEAH</td>\n      <td>183</td>\n      <td>3</td>\n    </tr>\n  </tbody>\n</table>\n<p>104 rows × 6 columns</p>\n</div>"
     },
     "metadata": {},
     "execution_count": 52
    }
   ],
   "source": [
    "df[(df[\"Gender\"] == \"FEMALE\") & (df[\"Rank\"] <= 3)]"
   ]
  },
  {
   "cell_type": "code",
   "execution_count": null,
   "metadata": {},
   "outputs": [],
   "source": []
  }
 ],
 "metadata": {
  "language_info": {
   "codemirror_mode": {
    "name": "ipython",
    "version": 3
   },
   "file_extension": ".py",
   "mimetype": "text/x-python",
   "name": "python",
   "nbconvert_exporter": "python",
   "pygments_lexer": "ipython3",
   "version": "3.8.3-final"
  },
  "orig_nbformat": 2,
  "kernelspec": {
   "name": "python38332bitf218951a9e134d92b6313e3e3a3358bd",
   "display_name": "Python 3.8.3 32-bit"
  }
 },
 "nbformat": 4,
 "nbformat_minor": 2
}