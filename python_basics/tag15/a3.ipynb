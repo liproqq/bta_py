{
 "cells": [
  {
   "cell_type": "markdown",
   "metadata": {},
   "source": [
    "Aufgabe:\n",
    "Gib die Top 3 weiblichen Namen für jede 'Ethnicity' aus.\n",
    "Nutze die bereinigte CSV."
   ]
  },
  {
   "cell_type": "code",
   "execution_count": 1,
   "metadata": {},
   "outputs": [
    {
     "output_type": "error",
     "ename": "ModuleNotFoundError",
     "evalue": "No module named 'pandas'",
     "traceback": [
      "\u001b[1;31m---------------------------------------------------------------------------\u001b[0m",
      "\u001b[1;31mModuleNotFoundError\u001b[0m                       Traceback (most recent call last)",
      "\u001b[1;32m<ipython-input-1-cc364e203985>\u001b[0m in \u001b[0;36m<module>\u001b[1;34m\u001b[0m\n\u001b[0;32m      1\u001b[0m \u001b[1;32mfrom\u001b[0m \u001b[0mpathlib\u001b[0m \u001b[1;32mimport\u001b[0m \u001b[0mPath\u001b[0m\u001b[1;33m\u001b[0m\u001b[1;33m\u001b[0m\u001b[0m\n\u001b[1;32m----> 2\u001b[1;33m \u001b[1;32mimport\u001b[0m \u001b[0mpandas\u001b[0m \u001b[1;32mas\u001b[0m \u001b[0mpd\u001b[0m\u001b[1;33m\u001b[0m\u001b[1;33m\u001b[0m\u001b[0m\n\u001b[0m\u001b[0;32m      3\u001b[0m \u001b[1;33m\u001b[0m\u001b[0m\n\u001b[0;32m      4\u001b[0m \u001b[0mdata_path\u001b[0m \u001b[1;33m=\u001b[0m \u001b[0mPath\u001b[0m\u001b[1;33m(\u001b[0m\u001b[1;33m)\u001b[0m \u001b[1;33m/\u001b[0m \u001b[1;34m\"data\"\u001b[0m\u001b[1;33m\u001b[0m\u001b[1;33m\u001b[0m\u001b[0m\n\u001b[0;32m      5\u001b[0m \u001b[0mclean_baby_names\u001b[0m \u001b[1;33m=\u001b[0m \u001b[0mPath\u001b[0m\u001b[1;33m(\u001b[0m\u001b[1;33m)\u001b[0m \u001b[1;33m/\u001b[0m \u001b[1;34m\"data/clean_baby_names.csv\"\u001b[0m\u001b[1;33m\u001b[0m\u001b[1;33m\u001b[0m\u001b[0m\n",
      "\u001b[1;31mModuleNotFoundError\u001b[0m: No module named 'pandas'"
     ]
    }
   ],
   "source": [
    "from pathlib import Path\n",
    "import pandas as pd\n",
    "\n",
    "data_path = Path() / \"data\"\n",
    "clean_baby_names = Path() / \"data/clean_baby_names.csv\"\n",
    "\n",
    "df = pd.read_csv(clean_baby_names)"
   ]
  },
  {
   "cell_type": "code",
   "execution_count": 52,
   "metadata": {},
   "outputs": [
    {
     "output_type": "execute_result",
     "data": {
      "text/plain": "       Year of Birth  Gender                   Ethnicity Child's First Name  \\\n0               2016  FEMALE  ASIAN AND PACIFIC ISLANDER             Olivia   \n1               2016  FEMALE  ASIAN AND PACIFIC ISLANDER              Chloe   \n2               2016  FEMALE  ASIAN AND PACIFIC ISLANDER             Sophia   \n182             2016  FEMALE          BLACK NON HISPANIC                Ava   \n183             2016  FEMALE          BLACK NON HISPANIC            Madison   \n...              ...     ...                         ...                ...   \n16841           2011  FEMALE          WHITE NON HISPANIC             OLIVIA   \n16842           2011  FEMALE          WHITE NON HISPANIC             OLIVIA   \n16843           2011  FEMALE          WHITE NON HISPANIC               EMMA   \n16844           2011  FEMALE          WHITE NON HISPANIC               LEAH   \n16845           2011  FEMALE          WHITE NON HISPANIC               LEAH   \n\n       Count  Rank  \n0        172     1  \n1        112     2  \n2        104     3  \n182      109     1  \n183      104     2  \n...      ...   ...  \n16841    213     2  \n16842    213     2  \n16843    213     2  \n16844    183     3  \n16845    183     3  \n\n[104 rows x 6 columns]",
      "text/html": "<div>\n<style scoped>\n    .dataframe tbody tr th:only-of-type {\n        vertical-align: middle;\n    }\n\n    .dataframe tbody tr th {\n        vertical-align: top;\n    }\n\n    .dataframe thead th {\n        text-align: right;\n    }\n</style>\n<table border=\"1\" class=\"dataframe\">\n  <thead>\n    <tr style=\"text-align: right;\">\n      <th></th>\n      <th>Year of Birth</th>\n      <th>Gender</th>\n      <th>Ethnicity</th>\n      <th>Child's First Name</th>\n      <th>Count</th>\n      <th>Rank</th>\n    </tr>\n  </thead>\n  <tbody>\n    <tr>\n      <th>0</th>\n      <td>2016</td>\n      <td>FEMALE</td>\n      <td>ASIAN AND PACIFIC ISLANDER</td>\n      <td>Olivia</td>\n      <td>172</td>\n      <td>1</td>\n    </tr>\n    <tr>\n      <th>1</th>\n      <td>2016</td>\n      <td>FEMALE</td>\n      <td>ASIAN AND PACIFIC ISLANDER</td>\n      <td>Chloe</td>\n      <td>112</td>\n      <td>2</td>\n    </tr>\n    <tr>\n      <th>2</th>\n      <td>2016</td>\n      <td>FEMALE</td>\n      <td>ASIAN AND PACIFIC ISLANDER</td>\n      <td>Sophia</td>\n      <td>104</td>\n      <td>3</td>\n    </tr>\n    <tr>\n      <th>182</th>\n      <td>2016</td>\n      <td>FEMALE</td>\n      <td>BLACK NON HISPANIC</td>\n      <td>Ava</td>\n      <td>109</td>\n      <td>1</td>\n    </tr>\n    <tr>\n      <th>183</th>\n      <td>2016</td>\n      <td>FEMALE</td>\n      <td>BLACK NON HISPANIC</td>\n      <td>Madison</td>\n      <td>104</td>\n      <td>2</td>\n    </tr>\n    <tr>\n      <th>...</th>\n      <td>...</td>\n      <td>...</td>\n      <td>...</td>\n      <td>...</td>\n      <td>...</td>\n      <td>...</td>\n    </tr>\n    <tr>\n      <th>16841</th>\n      <td>2011</td>\n      <td>FEMALE</td>\n      <td>WHITE NON HISPANIC</td>\n      <td>OLIVIA</td>\n      <td>213</td>\n      <td>2</td>\n    </tr>\n    <tr>\n      <th>16842</th>\n      <td>2011</td>\n      <td>FEMALE</td>\n      <td>WHITE NON HISPANIC</td>\n      <td>OLIVIA</td>\n      <td>213</td>\n      <td>2</td>\n    </tr>\n    <tr>\n      <th>16843</th>\n      <td>2011</td>\n      <td>FEMALE</td>\n      <td>WHITE NON HISPANIC</td>\n      <td>EMMA</td>\n      <td>213</td>\n      <td>2</td>\n    </tr>\n    <tr>\n      <th>16844</th>\n      <td>2011</td>\n      <td>FEMALE</td>\n      <td>WHITE NON HISPANIC</td>\n      <td>LEAH</td>\n      <td>183</td>\n      <td>3</td>\n    </tr>\n    <tr>\n      <th>16845</th>\n      <td>2011</td>\n      <td>FEMALE</td>\n      <td>WHITE NON HISPANIC</td>\n      <td>LEAH</td>\n      <td>183</td>\n      <td>3</td>\n    </tr>\n  </tbody>\n</table>\n<p>104 rows × 6 columns</p>\n</div>"
     },
     "metadata": {},
     "execution_count": 52
    }
   ],
   "source": [
    "df[(df[\"Gender\"] == \"FEMALE\") & (df[\"Rank\"] <= 3)].groupby(\"Ethnicity\").head()"
   ]
  },
  {
   "cell_type": "code",
   "execution_count": null,
   "metadata": {},
   "outputs": [],
   "source": []
  }
 ],
 "metadata": {
  "language_info": {
   "codemirror_mode": {
    "name": "ipython",
    "version": 3
   },
   "file_extension": ".py",
   "mimetype": "text/x-python",
   "name": "python",
   "nbconvert_exporter": "python",
   "pygments_lexer": "ipython3",
   "version": "3.8.2-final"
  },
  "orig_nbformat": 2,
  "kernelspec": {
   "name": "python38232bit661970a5377b42b281425299382175ba",
   "display_name": "Python 3.8.2 32-bit"
  }
 },
 "nbformat": 4,
 "nbformat_minor": 2
}