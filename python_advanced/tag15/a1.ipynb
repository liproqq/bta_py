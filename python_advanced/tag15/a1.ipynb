{
 "cells": [
  {
   "cell_type": "code",
   "execution_count": 1,
   "metadata": {},
   "outputs": [],
   "source": [
    "import pandas as pd\n",
    "import numpy as np\n",
    "\n",
    "from tensorflow.keras.preprocessing.text import one_hot\n",
    "from tensorflow.keras.preprocessing.sequence import pad_sequences"
   ]
  },
  {
   "cell_type": "code",
   "execution_count": 2,
   "metadata": {
    "tags": []
   },
   "outputs": [
    {
     "output_type": "stream",
     "name": "stdout",
     "text": "0     Hello World!\n1      hello world\n2              cat\n3    world of dogs\ndtype: object\n"
    }
   ],
   "source": [
    "text = pd.Series(['Hello World!', 'hello world', 'cat', 'world of dogs'])\n",
    "\n",
    "print(text)"
   ]
  },
  {
   "cell_type": "markdown",
   "metadata": {},
   "source": [
    "#### Wörter in Zahlen umwandeln"
   ]
  },
  {
   "cell_type": "code",
   "execution_count": 3,
   "metadata": {
    "tags": []
   },
   "outputs": [
    {
     "output_type": "stream",
     "name": "stdout",
     "text": "0      [hello, world!]\n1       [hello, world]\n2                [cat]\n3    [world, of, dogs]\ndtype: object\n['hello' 'world!' 'hello' 'world' 'cat' 'world' 'of' 'dogs']\n6\n0     Hello World!\n1      hello world\n2              cat\n3    world of dogs\ndtype: object\n0        [6, 24]\n1        [6, 24]\n2           [10]\n3    [24, 1, 19]\ndtype: object\n"
    }
   ],
   "source": [
    "# one_hot(list, size_of_vocabulary)\n",
    "\n",
    "vocab = text.str.lower().apply(str.split)\n",
    "voc = []\n",
    "for i in vocab:\n",
    "    voc += i\n",
    "voc = np.array(voc)\n",
    "\n",
    "print(vocab)\n",
    "print(voc)\n",
    "print(len(np.unique(voc)))\n",
    "\n",
    "vocab_size = len(np.unique(voc))\n",
    "print(text)\n",
    "text_indices = text.apply(one_hot, args=[25])\n",
    "print(text_indices)"
   ]
  },
  {
   "cell_type": "markdown",
   "metadata": {},
   "source": [
    "#### Alle Sequenzen auf die gleiche Länge bringen"
   ]
  },
  {
   "cell_type": "code",
   "execution_count": 4,
   "metadata": {
    "tags": []
   },
   "outputs": [
    {
     "output_type": "stream",
     "name": "stdout",
     "text": "3\n3\n"
    }
   ],
   "source": [
    "print(text.str.split().apply(len).max())\n",
    "print(text_indices.apply(len).max())"
   ]
  },
  {
   "cell_type": "code",
   "execution_count": 5,
   "metadata": {
    "tags": []
   },
   "outputs": [
    {
     "output_type": "stream",
     "name": "stdout",
     "text": "[[ 0  6 24]\n [ 0  6 24]\n [ 0  0 10]\n [24  1 19]]\n"
    }
   ],
   "source": [
    "maxlen = text_indices.apply(len).max()\n",
    "\n",
    "padded_indices = pad_sequences(text_indices, maxlen=maxlen, padding='pre')\n",
    "\n",
    "print(padded_indices)"
   ]
  },
  {
   "cell_type": "code",
   "execution_count": 6,
   "metadata": {},
   "outputs": [],
   "source": [
    "# define documents\n",
    "docs = ['Well done!',\n",
    "\t\t'Good work',\n",
    "\t\t'Great effort',\n",
    "\t\t'nice work',\n",
    "\t\t'Excellent!',\n",
    "\t\t'Weak',\n",
    "\t\t'Poor effort!',\n",
    "\t\t'not good',\n",
    "\t\t'poor work',\n",
    "\t\t'Could have done better.']\n",
    "# define class labels\n",
    "labels = np.array([1,1,1,1,1,0,0,0,0,0])"
   ]
  },
  {
   "cell_type": "code",
   "execution_count": 7,
   "metadata": {
    "tags": []
   },
   "outputs": [
    {
     "output_type": "stream",
     "name": "stdout",
     "text": "[[95, 191], [37, 127], [187, 115], [85, 127], [138], [140], [94, 115], [122, 37], [94, 127], [59, 61, 191, 68]]\n"
    }
   ],
   "source": [
    "docs_indices = [one_hot(t, 200) for t in docs]\n",
    "print(docs_indices)"
   ]
  },
  {
   "cell_type": "code",
   "execution_count": 8,
   "metadata": {
    "tags": []
   },
   "outputs": [
    {
     "output_type": "stream",
     "name": "stdout",
     "text": "4\n[[  0   0  95 191]\n [  0   0  37 127]\n [  0   0 187 115]\n [  0   0  85 127]\n [  0   0   0 138]\n [  0   0   0 140]\n [  0   0  94 115]\n [  0   0 122  37]\n [  0   0  94 127]\n [ 59  61 191  68]]\n"
    }
   ],
   "source": [
    "maxlen = 0\n",
    "for i in docs_indices:\n",
    "    if len(i) > maxlen:\n",
    "        maxlen = len(i)\n",
    "print(maxlen)\n",
    "\n",
    "padded_indices = pad_sequences(docs_indices, maxlen=maxlen, padding='pre')\n",
    "\n",
    "print(padded_indices)"
   ]
  },
  {
   "cell_type": "code",
   "execution_count": 9,
   "metadata": {},
   "outputs": [],
   "source": [
    "import tensorflow as tf\n",
    "\n",
    "config = tf.compat.v1.ConfigProto(gpu_options=tf.compat.v1.GPUOptions(\n",
    "                                    per_process_gpu_memory_fraction=0.8)\n",
    "                                  # device_count = {'GPU': 1}\n",
    "                                  )\n",
    "config.gpu_options.allow_growth = True\n",
    "session = tf.compat.v1.Session(config=config)\n",
    "tf.compat.v1.keras.backend.set_session(session)"
   ]
  },
  {
   "cell_type": "markdown",
   "metadata": {},
   "source": [
    "#### Model erstellen"
   ]
  },
  {
   "cell_type": "code",
   "execution_count": 10,
   "metadata": {},
   "outputs": [],
   "source": [
    "from tensorflow.keras.models import Sequential\n",
    "from tensorflow.keras.layers import Dense, Flatten, Embedding"
   ]
  },
  {
   "cell_type": "code",
   "execution_count": 11,
   "metadata": {
    "tags": []
   },
   "outputs": [
    {
     "output_type": "stream",
     "name": "stdout",
     "text": "Model: \"sequential\"\n_________________________________________________________________\nLayer (type)                 Output Shape              Param #   \n=================================================================\nembedding (Embedding)        (None, 4, 8)              1608      \n_________________________________________________________________\nflatten (Flatten)            (None, 32)                0         \n_________________________________________________________________\ndense (Dense)                (None, 1)                 33        \n=================================================================\nTotal params: 1,641\nTrainable params: 1,641\nNon-trainable params: 0\n_________________________________________________________________\nNone\n"
    }
   ],
   "source": [
    "model = Sequential()\n",
    "\n",
    "model.add(Embedding(200 + 1, 8, input_length=maxlen))\n",
    "model.add(Flatten())\n",
    "model.add(Dense(1, activation='sigmoid'))\n",
    "\n",
    "model.compile(optimizer='adam', loss='binary_crossentropy', metrics=['acc'])\n",
    "\n",
    "print(model.summary())"
   ]
  },
  {
   "cell_type": "code",
   "execution_count": 12,
   "metadata": {
    "collapsed": true,
    "tags": []
   },
   "outputs": [
    {
     "output_type": "stream",
     "name": "stdout",
     "text": "Epoch 1/50\n1/1 [==============================] - 0s 1ms/step - loss: 0.6971 - acc: 0.5000\nEpoch 2/50\n1/1 [==============================] - 0s 3ms/step - loss: 0.6956 - acc: 0.5000\nEpoch 3/50\n1/1 [==============================] - 0s 2ms/step - loss: 0.6941 - acc: 0.5000\nEpoch 4/50\n1/1 [==============================] - 0s 2ms/step - loss: 0.6925 - acc: 0.5000\nEpoch 5/50\n1/1 [==============================] - 0s 2ms/step - loss: 0.6910 - acc: 0.5000\nEpoch 6/50\n1/1 [==============================] - 0s 3ms/step - loss: 0.6895 - acc: 0.5000\nEpoch 7/50\n1/1 [==============================] - 0s 3ms/step - loss: 0.6880 - acc: 0.4000\nEpoch 8/50\n1/1 [==============================] - 0s 2ms/step - loss: 0.6865 - acc: 0.4000\nEpoch 9/50\n1/1 [==============================] - 0s 2ms/step - loss: 0.6851 - acc: 0.4000\nEpoch 10/50\n1/1 [==============================] - 0s 3ms/step - loss: 0.6836 - acc: 0.7000\nEpoch 11/50\n1/1 [==============================] - 0s 2ms/step - loss: 0.6821 - acc: 0.7000\nEpoch 12/50\n1/1 [==============================] - 0s 3ms/step - loss: 0.6806 - acc: 0.7000\nEpoch 13/50\n1/1 [==============================] - 0s 4ms/step - loss: 0.6792 - acc: 0.8000\nEpoch 14/50\n1/1 [==============================] - 0s 2ms/step - loss: 0.6777 - acc: 0.8000\nEpoch 15/50\n1/1 [==============================] - 0s 996us/step - loss: 0.6763 - acc: 0.8000\nEpoch 16/50\n1/1 [==============================] - 0s 1ms/step - loss: 0.6748 - acc: 0.8000\nEpoch 17/50\n1/1 [==============================] - 0s 2ms/step - loss: 0.6733 - acc: 0.8000\nEpoch 18/50\n1/1 [==============================] - 0s 3ms/step - loss: 0.6719 - acc: 0.8000\nEpoch 19/50\n1/1 [==============================] - 0s 4ms/step - loss: 0.6704 - acc: 0.8000\nEpoch 20/50\n1/1 [==============================] - 0s 2ms/step - loss: 0.6689 - acc: 0.8000\nEpoch 21/50\n1/1 [==============================] - 0s 2ms/step - loss: 0.6675 - acc: 0.8000\nEpoch 22/50\n1/1 [==============================] - 0s 2ms/step - loss: 0.6660 - acc: 0.8000\nEpoch 23/50\n1/1 [==============================] - 0s 1ms/step - loss: 0.6645 - acc: 0.8000\nEpoch 24/50\n1/1 [==============================] - 0s 1ms/step - loss: 0.6631 - acc: 0.9000\nEpoch 25/50\n1/1 [==============================] - 0s 2ms/step - loss: 0.6616 - acc: 0.9000\nEpoch 26/50\n1/1 [==============================] - 0s 4ms/step - loss: 0.6601 - acc: 0.9000\nEpoch 27/50\n1/1 [==============================] - 0s 2ms/step - loss: 0.6586 - acc: 0.9000\nEpoch 28/50\n1/1 [==============================] - 0s 3ms/step - loss: 0.6571 - acc: 0.9000\nEpoch 29/50\n1/1 [==============================] - 0s 1ms/step - loss: 0.6556 - acc: 0.9000\nEpoch 30/50\n1/1 [==============================] - 0s 3ms/step - loss: 0.6541 - acc: 0.9000\nEpoch 31/50\n1/1 [==============================] - 0s 998us/step - loss: 0.6526 - acc: 0.9000\nEpoch 32/50\n1/1 [==============================] - 0s 2ms/step - loss: 0.6510 - acc: 0.9000\nEpoch 33/50\n1/1 [==============================] - 0s 2ms/step - loss: 0.6495 - acc: 0.9000\nEpoch 34/50\n1/1 [==============================] - 0s 2ms/step - loss: 0.6480 - acc: 0.9000\nEpoch 35/50\n1/1 [==============================] - 0s 1000us/step - loss: 0.6464 - acc: 0.9000\nEpoch 36/50\n1/1 [==============================] - 0s 2ms/step - loss: 0.6448 - acc: 0.9000\nEpoch 37/50\n1/1 [==============================] - 0s 2ms/step - loss: 0.6433 - acc: 0.9000\nEpoch 38/50\n1/1 [==============================] - 0s 2ms/step - loss: 0.6417 - acc: 0.9000\nEpoch 39/50\n1/1 [==============================] - 0s 2ms/step - loss: 0.6401 - acc: 0.9000\nEpoch 40/50\n1/1 [==============================] - 0s 3ms/step - loss: 0.6385 - acc: 0.9000\nEpoch 41/50\n1/1 [==============================] - 0s 3ms/step - loss: 0.6369 - acc: 0.9000\nEpoch 42/50\n1/1 [==============================] - 0s 2ms/step - loss: 0.6353 - acc: 0.9000\nEpoch 43/50\n1/1 [==============================] - 0s 3ms/step - loss: 0.6336 - acc: 0.9000\nEpoch 44/50\n1/1 [==============================] - 0s 1ms/step - loss: 0.6320 - acc: 0.9000\nEpoch 45/50\n1/1 [==============================] - 0s 2ms/step - loss: 0.6303 - acc: 0.9000\nEpoch 46/50\n1/1 [==============================] - 0s 2ms/step - loss: 0.6287 - acc: 0.9000\nEpoch 47/50\n1/1 [==============================] - 0s 1ms/step - loss: 0.6270 - acc: 0.9000\nEpoch 48/50\n1/1 [==============================] - 0s 2ms/step - loss: 0.6253 - acc: 0.9000\nEpoch 49/50\n1/1 [==============================] - 0s 2ms/step - loss: 0.6236 - acc: 0.9000\nEpoch 50/50\n1/1 [==============================] - 0s 2ms/step - loss: 0.6219 - acc: 0.9000\n"
    }
   ],
   "source": [
    "history = model.fit(padded_indices, labels, epochs=50)"
   ]
  },
  {
   "cell_type": "code",
   "execution_count": 13,
   "metadata": {
    "tags": []
   },
   "outputs": [
    {
     "output_type": "stream",
     "name": "stdout",
     "text": "1/1 [==============================] - 0s 3ms/step - loss: 0.6202 - acc: 0.9000\nAccuracy: 0.8999999761581421\n"
    }
   ],
   "source": [
    "loss, acc = model.evaluate(padded_indices, labels)\n",
    "print('Accuracy:', acc)"
   ]
  },
  {
   "cell_type": "code",
   "execution_count": null,
   "metadata": {},
   "outputs": [],
   "source": []
  }
 ],
 "metadata": {
  "kernelspec": {
   "display_name": "Python 3",
   "language": "python",
   "name": "python3"
  },
  "language_info": {
   "codemirror_mode": {
    "name": "ipython",
    "version": 3
   },
   "file_extension": ".py",
   "mimetype": "text/x-python",
   "name": "python",
   "nbconvert_exporter": "python",
   "pygments_lexer": "ipython3",
   "version": "3.8.5-final"
  }
 },
 "nbformat": 4,
 "nbformat_minor": 4
}