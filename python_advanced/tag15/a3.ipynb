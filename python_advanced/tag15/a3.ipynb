{
 "cells": [
  {
   "cell_type": "code",
   "execution_count": 1,
   "metadata": {},
   "outputs": [],
   "source": [
    "import pandas as pd\n",
    "import numpy as np\n",
    "import matplotlib.pyplot as plt\n",
    "\n",
    "from tensorflow.keras.models import Sequential\n",
    "from tensorflow.keras.layers import Dense, Dropout, LSTM\n",
    "from sklearn.preprocessing import MinMaxScaler\n",
    "from pathlib import Path"
   ]
  },
  {
   "cell_type": "code",
   "execution_count": 2,
   "metadata": {
    "tags": []
   },
   "outputs": [
    {
     "output_type": "stream",
     "name": "stdout",
     "text": "Date    Open    High     Low   Close    Volume\n0       1/3/2012  325.25  332.83  324.97  663.59   7380500\n1       1/4/2012  331.27  333.87  329.08  666.45   5749400\n2       1/5/2012  329.83  330.75  326.89  657.21   6590300\n3       1/6/2012  328.34  328.77  323.68  648.24   5405900\n4       1/9/2012  322.04  322.29  309.46  620.76  11688800\n...          ...     ...     ...     ...     ...       ...\n1253  12/23/2016  790.90  792.74  787.28  789.91    623400\n1254  12/27/2016  790.68  797.86  787.66  791.55    789100\n1255  12/28/2016  793.70  794.23  783.20  785.05   1153800\n1256  12/29/2016  783.33  785.93  778.92  782.79    744300\n1257  12/30/2016  782.75  782.78  770.41  771.82   1770000\n\n[1258 rows x 6 columns]\n"
    }
   ],
   "source": [
    "path = Path().resolve()\n",
    "\n",
    "df_train = pd.read_csv(path / 'Google_Stock_Price_Train.csv', thousands=',')\n",
    "print(df_train)"
   ]
  },
  {
   "cell_type": "code",
   "execution_count": 3,
   "metadata": {},
   "outputs": [],
   "source": [
    "training_set = df_train[['Open']]\n",
    "\n",
    "scaler = MinMaxScaler()\n",
    "\n",
    "training_set = scaler.fit_transform(training_set)"
   ]
  },
  {
   "cell_type": "code",
   "execution_count": 4,
   "metadata": {
    "tags": []
   },
   "outputs": [
    {
     "output_type": "stream",
     "name": "stdout",
     "text": "[[0.08581368]\n [0.09701243]\n [0.09433366]\n ...\n [0.95725128]\n [0.93796041]\n [0.93688146]]\n"
    }
   ],
   "source": [
    "print(training_set)"
   ]
  },
  {
   "cell_type": "code",
   "execution_count": 5,
   "metadata": {},
   "outputs": [],
   "source": [
    "X_train = []\n",
    "y_train = []\n",
    "\n",
    "timestep = 60\n",
    "\n",
    "for i in range(timestep, len(training_set)):\n",
    "    X_train.append(training_set[i-timestep:i, 0])\n",
    "    y_train.append(training_set[i, 0])\n",
    "\n",
    "X_train = np.array(X_train)\n",
    "y_train = np.array(y_train)"
   ]
  },
  {
   "cell_type": "code",
   "execution_count": 6,
   "metadata": {
    "tags": []
   },
   "outputs": [
    {
     "output_type": "stream",
     "name": "stdout",
     "text": "(1198, 60)\n[[0.08581368 0.09701243 0.09433366 ... 0.07846566 0.08034452 0.08497656]\n [0.09701243 0.09433366 0.09156187 ... 0.08034452 0.08497656 0.08627874]\n [0.09433366 0.09156187 0.07984225 ... 0.08497656 0.08627874 0.08471612]\n ...\n [0.92106928 0.92438053 0.93048218 ... 0.95475854 0.95204256 0.95163331]\n [0.92438053 0.93048218 0.9299055  ... 0.95204256 0.95163331 0.95725128]\n [0.93048218 0.9299055  0.93113327 ... 0.95163331 0.95725128 0.93796041]]\n\n(1198,)\n[0.08627874 0.08471612 0.07454052 ... 0.95725128 0.93796041 0.93688146]\n"
    }
   ],
   "source": [
    "print(X_train.shape)\n",
    "print(X_train)\n",
    "print()\n",
    "print(y_train.shape)\n",
    "print(y_train)"
   ]
  },
  {
   "cell_type": "code",
   "execution_count": null,
   "metadata": {},
   "outputs": [],
   "source": []
  }
 ],
 "metadata": {
  "kernelspec": {
   "display_name": "Python 3",
   "language": "python",
   "name": "python3"
  },
  "language_info": {
   "codemirror_mode": {
    "name": "ipython",
    "version": 3
   },
   "file_extension": ".py",
   "mimetype": "text/x-python",
   "name": "python",
   "nbconvert_exporter": "python",
   "pygments_lexer": "ipython3",
   "version": "3.8.5-final"
  }
 },
 "nbformat": 4,
 "nbformat_minor": 4
}