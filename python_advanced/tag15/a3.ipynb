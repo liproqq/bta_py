{
 "cells": [
  {
   "cell_type": "code",
   "execution_count": 1,
   "metadata": {},
   "outputs": [],
   "source": [
    "import pandas as pd\n",
    "import numpy as np\n",
    "import matplotlib.pyplot as plt\n",
    "import tensorflow as tf\n",
    "\n",
    "from tensorflow.keras.models import Sequential\n",
    "from tensorflow.keras.layers import Dense, Dropout, LSTM\n",
    "from sklearn.preprocessing import MinMaxScaler\n",
    "from pathlib import Path"
   ]
  },
  {
   "cell_type": "code",
   "execution_count": 2,
   "metadata": {},
   "outputs": [],
   "source": [
    "config = tf.compat.v1.ConfigProto(gpu_options=tf.compat.v1.GPUOptions(\n",
    "                                    per_process_gpu_memory_fraction=0.8)\n",
    "                                  )\n",
    "config.gpu_options.allow_growth = True\n",
    "session = tf.compat.v1.Session(config=config)\n",
    "tf.compat.v1.keras.backend.set_session(session)"
   ]
  },
  {
   "cell_type": "code",
   "execution_count": 3,
   "metadata": {},
   "outputs": [
    {
     "name": "stdout",
     "output_type": "stream",
     "text": [
      "            Date    Open    High     Low   Close    Volume\n",
      "0       1/3/2012  325.25  332.83  324.97  663.59   7380500\n",
      "1       1/4/2012  331.27  333.87  329.08  666.45   5749400\n",
      "2       1/5/2012  329.83  330.75  326.89  657.21   6590300\n",
      "3       1/6/2012  328.34  328.77  323.68  648.24   5405900\n",
      "4       1/9/2012  322.04  322.29  309.46  620.76  11688800\n",
      "...          ...     ...     ...     ...     ...       ...\n",
      "1253  12/23/2016  790.90  792.74  787.28  789.91    623400\n",
      "1254  12/27/2016  790.68  797.86  787.66  791.55    789100\n",
      "1255  12/28/2016  793.70  794.23  783.20  785.05   1153800\n",
      "1256  12/29/2016  783.33  785.93  778.92  782.79    744300\n",
      "1257  12/30/2016  782.75  782.78  770.41  771.82   1770000\n",
      "\n",
      "[1258 rows x 6 columns]\n"
     ]
    }
   ],
   "source": [
    "path = Path().resolve()\n",
    "\n",
    "df_train = pd.read_csv(path / 'Google_Stock_Price_Train.csv', thousands=',')\n",
    "print(df_train)"
   ]
  },
  {
   "cell_type": "code",
   "execution_count": 4,
   "metadata": {},
   "outputs": [],
   "source": [
    "training_set = df_train[['Open']]\n",
    "\n",
    "scaler = MinMaxScaler()\n",
    "\n",
    "training_set = scaler.fit_transform(training_set)"
   ]
  },
  {
   "cell_type": "code",
   "execution_count": 5,
   "metadata": {},
   "outputs": [
    {
     "name": "stdout",
     "output_type": "stream",
     "text": [
      "[[0.08581368]\n",
      " [0.09701243]\n",
      " [0.09433366]\n",
      " ...\n",
      " [0.95725128]\n",
      " [0.93796041]\n",
      " [0.93688146]]\n"
     ]
    }
   ],
   "source": [
    "print(training_set)"
   ]
  },
  {
   "cell_type": "code",
   "execution_count": 6,
   "metadata": {},
   "outputs": [],
   "source": [
    "X_train = []\n",
    "y_train = []\n",
    "\n",
    "timestep = 60\n",
    "\n",
    "for i in range(timestep, len(training_set)):\n",
    "    X_train.append(training_set[i-timestep:i, 0])\n",
    "    y_train.append(training_set[i, 0])\n",
    "\n",
    "X_train = np.array(X_train)\n",
    "y_train = np.array(y_train)"
   ]
  },
  {
   "cell_type": "code",
   "execution_count": 7,
   "metadata": {},
   "outputs": [
    {
     "name": "stdout",
     "output_type": "stream",
     "text": [
      "(1198, 60)\n",
      "[[0.08581368 0.09701243 0.09433366 ... 0.07846566 0.08034452 0.08497656]\n",
      " [0.09701243 0.09433366 0.09156187 ... 0.08034452 0.08497656 0.08627874]\n",
      " [0.09433366 0.09156187 0.07984225 ... 0.08497656 0.08627874 0.08471612]\n",
      " ...\n",
      " [0.92106928 0.92438053 0.93048218 ... 0.95475854 0.95204256 0.95163331]\n",
      " [0.92438053 0.93048218 0.9299055  ... 0.95204256 0.95163331 0.95725128]\n",
      " [0.93048218 0.9299055  0.93113327 ... 0.95163331 0.95725128 0.93796041]]\n",
      "(1198,)\n",
      "[0.08627874 0.08471612 0.07454052 ... 0.95725128 0.93796041 0.93688146]\n"
     ]
    }
   ],
   "source": [
    "print(X_train.shape)\n",
    "print(X_train)\n",
    "print(y_train.shape)\n",
    "print(y_train)"
   ]
  },
  {
   "cell_type": "markdown",
   "metadata": {},
   "source": [
    "Da häufig mehr als eine Spalte genutzt wird, oder einzelne Daten in Vektoren aufgespalten werden (z.B. bei Satzerkennung). \n",
    "Wird vom LSTM-Layer ein zweidimensionaler Input pro Element erwartet."
   ]
  },
  {
   "cell_type": "code",
   "execution_count": 9,
   "metadata": {
    "collapsed": true
   },
   "outputs": [
    {
     "name": "stdout",
     "output_type": "stream",
     "text": [
      "(1198, 60, 1)\n",
      "[[[0.08581368]\n",
      "  [0.09701243]\n",
      "  [0.09433366]\n",
      "  ...\n",
      "  [0.07846566]\n",
      "  [0.08034452]\n",
      "  [0.08497656]]\n",
      "\n",
      " [[0.09701243]\n",
      "  [0.09433366]\n",
      "  [0.09156187]\n",
      "  ...\n",
      "  [0.08034452]\n",
      "  [0.08497656]\n",
      "  [0.08627874]]\n",
      "\n",
      " [[0.09433366]\n",
      "  [0.09156187]\n",
      "  [0.07984225]\n",
      "  ...\n",
      "  [0.08497656]\n",
      "  [0.08627874]\n",
      "  [0.08471612]]\n",
      "\n",
      " ...\n",
      "\n",
      " [[0.92106928]\n",
      "  [0.92438053]\n",
      "  [0.93048218]\n",
      "  ...\n",
      "  [0.95475854]\n",
      "  [0.95204256]\n",
      "  [0.95163331]]\n",
      "\n",
      " [[0.92438053]\n",
      "  [0.93048218]\n",
      "  [0.9299055 ]\n",
      "  ...\n",
      "  [0.95204256]\n",
      "  [0.95163331]\n",
      "  [0.95725128]]\n",
      "\n",
      " [[0.93048218]\n",
      "  [0.9299055 ]\n",
      "  [0.93113327]\n",
      "  ...\n",
      "  [0.95163331]\n",
      "  [0.95725128]\n",
      "  [0.93796041]]]\n"
     ]
    }
   ],
   "source": [
    "X_train = X_train.reshape(-1, 60, 1)\n",
    "\n",
    "print(X_train.shape)\n",
    "print(X_train)"
   ]
  },
  {
   "cell_type": "markdown",
   "metadata": {},
   "source": [
    "#### Model bauen"
   ]
  },
  {
   "cell_type": "code",
   "execution_count": 10,
   "metadata": {},
   "outputs": [
    {
     "name": "stdout",
     "output_type": "stream",
     "text": [
      "WARNING:tensorflow:Layer lstm will not use cuDNN kernel since it doesn't meet the cuDNN kernel criteria. It will use generic GPU kernel as fallback when running on GPU\n",
      "WARNING:tensorflow:Layer lstm_1 will not use cuDNN kernel since it doesn't meet the cuDNN kernel criteria. It will use generic GPU kernel as fallback when running on GPU\n",
      "WARNING:tensorflow:Layer lstm_2 will not use cuDNN kernel since it doesn't meet the cuDNN kernel criteria. It will use generic GPU kernel as fallback when running on GPU\n"
     ]
    }
   ],
   "source": [
    "model = Sequential()\n",
    "\n",
    "model.add(LSTM(64, activation='relu',\n",
    "               return_sequences=True, input_shape=(60, 1)))\n",
    "model.add(Dropout(0.3))\n",
    "\n",
    "model.add(LSTM(64, activation='relu', return_sequences=True))\n",
    "model.add(Dropout(0.3))\n",
    "\n",
    "model.add(LSTM(64, activation='relu'))\n",
    "model.add(Dropout(0.3))\n",
    "\n",
    "model.add(Dense(1))\n",
    "\n",
    "model.compile(optimizer='adam',\n",
    "              loss='mean_squared_error',\n",
    "              metrics=['acc', 'mse'])"
   ]
  },
  {
   "cell_type": "code",
   "execution_count": 11,
   "metadata": {},
   "outputs": [
    {
     "name": "stdout",
     "output_type": "stream",
     "text": [
      "Epoch 1/50\n",
      "38/38 [==============================] - 12s 326ms/step - loss: 0.0798 - acc: 8.3472e-04 - mse: 0.0798\n",
      "Epoch 2/50\n",
      "38/38 [==============================] - 12s 314ms/step - loss: 0.0126 - acc: 0.0017 - mse: 0.0126\n",
      "Epoch 3/50\n",
      "38/38 [==============================] - 12s 320ms/step - loss: 0.0104 - acc: 0.0017 - mse: 0.0104\n",
      "Epoch 4/50\n",
      "38/38 [==============================] - 12s 323ms/step - loss: 0.0081 - acc: 0.0017 - mse: 0.0081\n",
      "Epoch 5/50\n",
      "38/38 [==============================] - 12s 325ms/step - loss: 0.0076 - acc: 0.0017 - mse: 0.0076\n",
      "Epoch 6/50\n",
      "38/38 [==============================] - 12s 317ms/step - loss: 0.0076 - acc: 0.0017 - mse: 0.0076\n",
      "Epoch 7/50\n",
      "38/38 [==============================] - 12s 318ms/step - loss: 0.0067 - acc: 0.0017 - mse: 0.0067\n",
      "Epoch 8/50\n",
      "38/38 [==============================] - 12s 326ms/step - loss: 0.0075 - acc: 0.0017 - mse: 0.0075\n",
      "Epoch 9/50\n",
      "38/38 [==============================] - 12s 323ms/step - loss: 0.0064 - acc: 0.0017 - mse: 0.0064\n",
      "Epoch 10/50\n",
      "38/38 [==============================] - 12s 323ms/step - loss: 0.0068 - acc: 0.0017 - mse: 0.0068\n",
      "Epoch 11/50\n",
      "38/38 [==============================] - 12s 327ms/step - loss: 0.0062 - acc: 0.0017 - mse: 0.0062\n",
      "Epoch 12/50\n",
      "38/38 [==============================] - 12s 319ms/step - loss: 0.0059 - acc: 0.0017 - mse: 0.0059\n",
      "Epoch 13/50\n",
      "38/38 [==============================] - 12s 318ms/step - loss: 0.0058 - acc: 0.0017 - mse: 0.0058\n",
      "Epoch 14/50\n",
      "38/38 [==============================] - 12s 324ms/step - loss: 0.0057 - acc: 0.0017 - mse: 0.0057\n",
      "Epoch 15/50\n",
      "38/38 [==============================] - 13s 329ms/step - loss: 0.0056 - acc: 0.0017 - mse: 0.0056\n",
      "Epoch 16/50\n",
      "38/38 [==============================] - 12s 317ms/step - loss: 0.0057 - acc: 0.0017 - mse: 0.0057\n",
      "Epoch 17/50\n",
      "38/38 [==============================] - 12s 320ms/step - loss: 0.0055 - acc: 0.0017 - mse: 0.0055\n",
      "Epoch 18/50\n",
      "38/38 [==============================] - 12s 317ms/step - loss: 0.0056 - acc: 0.0017 - mse: 0.0056\n",
      "Epoch 19/50\n",
      "38/38 [==============================] - 12s 324ms/step - loss: 0.0055 - acc: 0.0017 - mse: 0.0055\n",
      "Epoch 20/50\n",
      "38/38 [==============================] - 12s 317ms/step - loss: 0.0051 - acc: 0.0017 - mse: 0.0051\n",
      "Epoch 21/50\n",
      "38/38 [==============================] - 12s 315ms/step - loss: 0.0058 - acc: 0.0017 - mse: 0.0058\n",
      "Epoch 22/50\n",
      "38/38 [==============================] - 12s 320ms/step - loss: 0.0054 - acc: 0.0017 - mse: 0.0054\n",
      "Epoch 23/50\n",
      "38/38 [==============================] - 12s 318ms/step - loss: 0.0051 - acc: 0.0017 - mse: 0.0051\n",
      "Epoch 24/50\n",
      "38/38 [==============================] - 12s 311ms/step - loss: 0.0044 - acc: 0.0017 - mse: 0.0044\n",
      "Epoch 25/50\n",
      "38/38 [==============================] - 12s 314ms/step - loss: 0.0047 - acc: 0.0017 - mse: 0.0047\n",
      "Epoch 26/50\n",
      "38/38 [==============================] - 12s 317ms/step - loss: 0.0046 - acc: 0.0017 - mse: 0.0046\n",
      "Epoch 27/50\n",
      "38/38 [==============================] - 12s 322ms/step - loss: 0.0047 - acc: 0.0017 - mse: 0.0047\n",
      "Epoch 28/50\n",
      "38/38 [==============================] - 12s 320ms/step - loss: 0.0047 - acc: 0.0017 - mse: 0.0047\n",
      "Epoch 29/50\n",
      "38/38 [==============================] - 12s 318ms/step - loss: 0.0044 - acc: 0.0017 - mse: 0.0044\n",
      "Epoch 30/50\n",
      "38/38 [==============================] - 12s 317ms/step - loss: 0.0043 - acc: 0.0017 - mse: 0.0043\n",
      "Epoch 31/50\n",
      "38/38 [==============================] - 12s 315ms/step - loss: 0.0044 - acc: 0.0017 - mse: 0.0044\n",
      "Epoch 32/50\n",
      "38/38 [==============================] - 12s 325ms/step - loss: 0.0041 - acc: 0.0017 - mse: 0.0041\n",
      "Epoch 33/50\n",
      "38/38 [==============================] - 12s 321ms/step - loss: 0.0040 - acc: 0.0017 - mse: 0.0040\n",
      "Epoch 34/50\n",
      "38/38 [==============================] - 12s 320ms/step - loss: 0.0041 - acc: 0.0017 - mse: 0.0041\n",
      "Epoch 35/50\n",
      "38/38 [==============================] - 12s 318ms/step - loss: 0.0040 - acc: 0.0017 - mse: 0.0040\n",
      "Epoch 36/50\n",
      "38/38 [==============================] - 12s 317ms/step - loss: 0.0038 - acc: 0.0017 - mse: 0.0038\n",
      "Epoch 37/50\n",
      "38/38 [==============================] - 12s 317ms/step - loss: 0.0039 - acc: 0.0017 - mse: 0.0039\n",
      "Epoch 38/50\n",
      "38/38 [==============================] - 12s 316ms/step - loss: 0.0040 - acc: 0.0017 - mse: 0.0040\n",
      "Epoch 39/50\n",
      "38/38 [==============================] - 12s 322ms/step - loss: 0.0041 - acc: 0.0017 - mse: 0.0041\n",
      "Epoch 40/50\n",
      "38/38 [==============================] - 13s 331ms/step - loss: 0.0038 - acc: 0.0017 - mse: 0.0038\n",
      "Epoch 41/50\n",
      "38/38 [==============================] - 12s 312ms/step - loss: 0.0038 - acc: 0.0017 - mse: 0.0038\n",
      "Epoch 42/50\n",
      "38/38 [==============================] - 12s 308ms/step - loss: 0.0036 - acc: 0.0017 - mse: 0.0036\n",
      "Epoch 43/50\n",
      "38/38 [==============================] - 12s 328ms/step - loss: 0.0036 - acc: 0.0017 - mse: 0.0036\n",
      "Epoch 44/50\n",
      "38/38 [==============================] - 12s 329ms/step - loss: 0.0037 - acc: 0.0017 - mse: 0.0037\n",
      "Epoch 45/50\n",
      "38/38 [==============================] - 13s 341ms/step - loss: 0.0034 - acc: 0.0017 - mse: 0.0034\n",
      "Epoch 46/50\n",
      "38/38 [==============================] - 13s 340ms/step - loss: 0.0034 - acc: 0.0017 - mse: 0.0034\n",
      "Epoch 47/50\n",
      "38/38 [==============================] - 13s 338ms/step - loss: 0.0036 - acc: 0.0017 - mse: 0.0036\n",
      "Epoch 48/50\n",
      "38/38 [==============================] - 13s 334ms/step - loss: 0.0030 - acc: 0.0017 - mse: 0.0030\n",
      "Epoch 49/50\n",
      "38/38 [==============================] - 13s 338ms/step - loss: 0.0035 - acc: 0.0017 - mse: 0.0035\n",
      "Epoch 50/50\n",
      "38/38 [==============================] - 13s 337ms/step - loss: 0.0035 - acc: 0.0017 - mse: 0.0035\n"
     ]
    }
   ],
   "source": [
    "stockmodel = model.fit(X_train, y_train, epochs=50)"
   ]
  },
  {
   "cell_type": "code",
   "execution_count": 12,
   "metadata": {
    "collapsed": true
   },
   "outputs": [
    {
     "name": "stdout",
     "output_type": "stream",
     "text": [
      "[0.000834724516607821, 0.001669449033215642, 0.001669449033215642, 0.001669449033215642, 0.001669449033215642, 0.001669449033215642, 0.001669449033215642, 0.001669449033215642, 0.001669449033215642, 0.001669449033215642, 0.001669449033215642, 0.001669449033215642, 0.001669449033215642, 0.001669449033215642, 0.001669449033215642, 0.001669449033215642, 0.001669449033215642, 0.001669449033215642, 0.001669449033215642, 0.001669449033215642, 0.001669449033215642, 0.001669449033215642, 0.001669449033215642, 0.001669449033215642, 0.001669449033215642, 0.001669449033215642, 0.001669449033215642, 0.001669449033215642, 0.001669449033215642, 0.001669449033215642, 0.001669449033215642, 0.001669449033215642, 0.001669449033215642, 0.001669449033215642, 0.001669449033215642, 0.001669449033215642, 0.001669449033215642, 0.001669449033215642, 0.001669449033215642, 0.001669449033215642, 0.001669449033215642, 0.001669449033215642, 0.001669449033215642, 0.001669449033215642, 0.001669449033215642, 0.001669449033215642, 0.001669449033215642, 0.001669449033215642, 0.001669449033215642, 0.001669449033215642]\n",
      "[0.0798143595457077, 0.012563328258693218, 0.01043484266847372, 0.008127270266413689, 0.007597926538437605, 0.007586469408124685, 0.006676748860627413, 0.007485232315957546, 0.006370903458446264, 0.006815399043262005, 0.0062439339235424995, 0.005873213987797499, 0.005783677101135254, 0.005727412179112434, 0.005636690650135279, 0.0056878188624978065, 0.005491485353559256, 0.005571505054831505, 0.0055123320780694485, 0.00508264172822237, 0.00581353297457099, 0.0053750560618937016, 0.0050954194739460945, 0.0044311340898275375, 0.004657925106585026, 0.004594315774738789, 0.004731378518044949, 0.004698813892900944, 0.004376349039375782, 0.004287653136998415, 0.004422234836965799, 0.00410536490380764, 0.0040415567345917225, 0.004077197518199682, 0.003976108506321907, 0.0037926528602838516, 0.003908624406903982, 0.0040286146104335785, 0.004110055044293404, 0.003811666276305914, 0.003826830768957734, 0.003577622352167964, 0.003581064520403743, 0.003656140062958002, 0.003371255937963724, 0.0033981064334511757, 0.0035709920339286327, 0.0030370792374014854, 0.0034813382662832737, 0.0034678166266530752]\n"
     ]
    }
   ],
   "source": [
    "print(stockmodel.history['acc'])\n",
    "print(stockmodel.history['mse'])"
   ]
  },
  {
   "cell_type": "code",
   "execution_count": 15,
   "metadata": {},
   "outputs": [
    {
     "data": {
      "text/plain": [
       "[]"
      ]
     },
     "execution_count": 15,
     "metadata": {},
     "output_type": "execute_result"
    },
    {
     "data": {
      "image/png": "[encoded data removed]",
      "text/plain": [
       "<Figure size 432x288 with 1 Axes>"
      ]
     },
     "metadata": {
      "needs_background": "light"
     },
     "output_type": "display_data"
    }
   ],
   "source": [
    "y_pred = model.predict(X_train)\n",
    "\n",
    "plt.plot(y_pred, label='Predicted')\n",
    "plt.plot(y_train, label='Training')\n",
    "plt.ylim(0)\n",
    "plt.legend()\n",
    "plt.xlabel('Day')\n",
    "plt.ylabel('Normalized Stock')\n",
    "plt.plot()"
   ]
  },
  {
   "cell_type": "code",
   "execution_count": 16,
   "metadata": {
    "collapsed": true
   },
   "outputs": [
    {
     "name": "stdout",
     "output_type": "stream",
     "text": [
      "Model: \"sequential\"\n",
      "_________________________________________________________________\n",
      "Layer (type)                 Output Shape              Param #   \n",
      "=================================================================\n",
      "lstm (LSTM)                  (None, 60, 64)            16896     \n",
      "_________________________________________________________________\n",
      "dropout (Dropout)            (None, 60, 64)            0         \n",
      "_________________________________________________________________\n",
      "lstm_1 (LSTM)                (None, 60, 64)            33024     \n",
      "_________________________________________________________________\n",
      "dropout_1 (Dropout)          (None, 60, 64)            0         \n",
      "_________________________________________________________________\n",
      "lstm_2 (LSTM)                (None, 64)                33024     \n",
      "_________________________________________________________________\n",
      "dropout_2 (Dropout)          (None, 64)                0         \n",
      "_________________________________________________________________\n",
      "dense (Dense)                (None, 1)                 65        \n",
      "=================================================================\n",
      "Total params: 83,009\n",
      "Trainable params: 83,009\n",
      "Non-trainable params: 0\n",
      "_________________________________________________________________\n"
     ]
    }
   ],
   "source": [
    "model.summary()"
   ]
  },
  {
   "cell_type": "markdown",
   "metadata": {},
   "source": [
    "#### Testdaten"
   ]
  },
  {
   "cell_type": "code",
   "execution_count": 17,
   "metadata": {
    "collapsed": true
   },
   "outputs": [
    {
     "name": "stdout",
     "output_type": "stream",
     "text": [
      "         Date    Open    High     Low   Close   Volume\n",
      "0    1/3/2017  778.81  789.63  775.80  786.14  1657300\n",
      "1    1/4/2017  788.36  791.34  783.16  786.90  1073000\n",
      "2    1/5/2017  786.08  794.48  785.02  794.02  1335200\n",
      "3    1/6/2017  795.26  807.90  792.20  806.15  1640200\n",
      "4    1/9/2017  806.40  809.97  802.83  806.65  1272400\n",
      "5   1/10/2017  807.86  809.13  803.51  804.79  1176800\n",
      "6   1/11/2017  805.00  808.15  801.37  807.91  1065900\n",
      "7   1/12/2017  807.14  807.39  799.17  806.36  1353100\n",
      "8   1/13/2017  807.48  811.22  806.69  807.88  1099200\n",
      "9   1/17/2017  807.08  807.14  800.37  804.61  1362100\n",
      "10  1/18/2017  805.81  806.21  800.99  806.07  1294400\n",
      "11  1/19/2017  805.12  809.48  801.80  802.17   919300\n",
      "12  1/20/2017  806.91  806.91  801.69  805.02  1670000\n",
      "13  1/23/2017  807.25  820.87  803.74  819.31  1963600\n",
      "14  1/24/2017  822.30  825.90  817.82  823.87  1474000\n",
      "15  1/25/2017  829.62  835.77  825.06  835.67  1494500\n",
      "16  1/26/2017  837.81  838.00  827.01  832.15  2973900\n",
      "17  1/27/2017  834.71  841.95  820.44  823.31  2965800\n",
      "18  1/30/2017  814.66  815.84  799.80  802.32  3246600\n",
      "19  1/31/2017  796.86  801.25  790.52  796.79  2160600\n"
     ]
    }
   ],
   "source": [
    "path = Path().resolve()\n",
    "\n",
    "df_test = pd.read_csv(path / 'Google_Stock_Price_Test.csv', thousands=',')\n",
    "print(df_test)"
   ]
  },
  {
   "cell_type": "code",
   "execution_count": 23,
   "metadata": {
    "collapsed": true
   },
   "outputs": [
    {
     "name": "stdout",
     "output_type": "stream",
     "text": [
      "(20, 60, 1)\n",
      "[[[0.9299055 ]\n",
      "  [0.93113327]\n",
      "  [0.92750577]\n",
      "  ...\n",
      "  [0.95725128]\n",
      "  [0.93796041]\n",
      "  [0.93688146]]\n",
      "\n",
      " [[0.93113327]\n",
      "  [0.92750577]\n",
      "  [0.94415507]\n",
      "  ...\n",
      "  [0.93796041]\n",
      "  [0.93688146]\n",
      "  [0.92955205]]\n",
      "\n",
      " [[0.92750577]\n",
      "  [0.94415507]\n",
      "  [0.93876032]\n",
      "  ...\n",
      "  [0.93688146]\n",
      "  [0.92955205]\n",
      "  [0.94731751]]\n",
      "\n",
      " ...\n",
      "\n",
      " [[0.96054394]\n",
      "  [0.9371419 ]\n",
      "  [0.92841729]\n",
      "  ...\n",
      "  [1.01045465]\n",
      "  [1.02407173]\n",
      "  [1.03930724]]\n",
      "\n",
      " [[0.9371419 ]\n",
      "  [0.92841729]\n",
      "  [0.90804747]\n",
      "  ...\n",
      "  [1.02407173]\n",
      "  [1.03930724]\n",
      "  [1.03354044]]\n",
      "\n",
      " [[0.92841729]\n",
      "  [0.90804747]\n",
      "  [0.8771858 ]\n",
      "  ...\n",
      "  [1.03930724]\n",
      "  [1.03354044]\n",
      "  [0.99624228]]]\n"
     ]
    }
   ],
   "source": [
    "test_data = pd.concat((df_train['Open'][-60:], df_test['Open']), axis=0)\n",
    "test_data = test_data.values.reshape(-1, 1)\n",
    "test_data_n = scaler.transform(test_data)\n",
    "\n",
    "X_test = []\n",
    "for i in range(timestep, len(test_data)):\n",
    "    X_test.append(test_data_n[i-timestep:i, 0])\n",
    "X_test = np.array(X_test)\n",
    "\n",
    "X_test = X_test.reshape(-1, 60, 1)\n",
    "\n",
    "print(X_test.shape)\n",
    "print(X_test)"
   ]
  },
  {
   "cell_type": "code",
   "execution_count": 25,
   "metadata": {
    "collapsed": true
   },
   "outputs": [
    {
     "name": "stdout",
     "output_type": "stream",
     "text": [
      "[[772.8025 ]\n",
      " [772.2193 ]\n",
      " [771.7179 ]\n",
      " [771.296  ]\n",
      " [771.2153 ]\n",
      " [771.6633 ]\n",
      " [772.5527 ]\n",
      " [773.65125]\n",
      " [774.86053]\n",
      " [776.08203]\n",
      " [777.2307 ]\n",
      " [778.2308 ]\n",
      " [779.0496 ]\n",
      " [779.7375 ]\n",
      " [780.3196 ]\n",
      " [781.1611 ]\n",
      " [782.39636]\n",
      " [784.07086]\n",
      " [785.958  ]\n",
      " [787.435  ]]\n"
     ]
    }
   ],
   "source": [
    "y_pred2 = model.predict(X_test)\n",
    "# print(y_pred2)\n",
    "y_pred2_real = scaler.inverse_transform(y_pred2)\n",
    "print(y_pred2_real)"
   ]
  },
  {
   "cell_type": "code",
   "execution_count": 26,
   "metadata": {},
   "outputs": [
    {
     "data": {
      "text/plain": [
       "[]"
      ]
     },
     "execution_count": 26,
     "metadata": {},
     "output_type": "execute_result"
    },
    {
     "data": {
      "image/png": "[encoded data removed]",
      "text/plain": [
       "<Figure size 432x288 with 1 Axes>"
      ]
     },
     "metadata": {
      "needs_background": "light"
     },
     "output_type": "display_data"
    }
   ],
   "source": [
    "plt.plot(y_pred2_real, label='Predicted')\n",
    "plt.plot(df_test['Open'], label='Training')\n",
    "plt.ylim(0)\n",
    "plt.legend()\n",
    "plt.xlabel('Day')\n",
    "plt.ylabel('Stockprediction')\n",
    "plt.plot()"
   ]
  },
  {
   "cell_type": "code",
   "execution_count": 32,
   "metadata": {
    "collapsed": true
   },
   "outputs": [
    {
     "data": {
      "text/plain": [
       "array([[[0.08581368],\n",
       "        [0.09701243],\n",
       "        [0.09433366],\n",
       "        ...,\n",
       "        [0.07846566],\n",
       "        [0.08034452],\n",
       "        [0.08497656]],\n",
       "\n",
       "       [[0.09701243],\n",
       "        [0.09433366],\n",
       "        [0.09156187],\n",
       "        ...,\n",
       "        [0.08034452],\n",
       "        [0.08497656],\n",
       "        [0.08627874]],\n",
       "\n",
       "       [[0.09433366],\n",
       "        [0.09156187],\n",
       "        [0.07984225],\n",
       "        ...,\n",
       "        [0.08497656],\n",
       "        [0.08627874],\n",
       "        [0.08471612]],\n",
       "\n",
       "       ...,\n",
       "\n",
       "       [[0.96054394],\n",
       "        [0.9371419 ],\n",
       "        [0.92841729],\n",
       "        ...,\n",
       "        [1.01045465],\n",
       "        [1.02407173],\n",
       "        [1.03930724]],\n",
       "\n",
       "       [[0.9371419 ],\n",
       "        [0.92841729],\n",
       "        [0.90804747],\n",
       "        ...,\n",
       "        [1.02407173],\n",
       "        [1.03930724],\n",
       "        [1.03354044]],\n",
       "\n",
       "       [[0.92841729],\n",
       "        [0.90804747],\n",
       "        [0.8771858 ],\n",
       "        ...,\n",
       "        [1.03930724],\n",
       "        [1.03354044],\n",
       "        [0.99624228]]])"
      ]
     },
     "execution_count": 32,
     "metadata": {},
     "output_type": "execute_result"
    }
   ],
   "source": [
    "total = pd.concat((df_train['Open'], df_test['Open']), axis=0)\n",
    "\n",
    "total_n = scaler.transform(total.values.reshape(-1, 1))\n",
    "\n",
    "X_total = []\n",
    "for i in range(timestep, len(total_n)):\n",
    "    X_total.append(total_n[i - timestep:i, 0])\n",
    "X_total = np.array(X_total)\n",
    "X_total = X_total.reshape(-1, 60, 1)\n",
    "X_total"
   ]
  },
  {
   "cell_type": "code",
   "execution_count": 36,
   "metadata": {},
   "outputs": [],
   "source": [
    "y_total = model.predict(X_total)\n",
    "y_true = total_n[60:]"
   ]
  },
  {
   "cell_type": "code",
   "execution_count": 37,
   "metadata": {},
   "outputs": [
    {
     "data": {
      "text/plain": [
       "[]"
      ]
     },
     "execution_count": 37,
     "metadata": {},
     "output_type": "execute_result"
    },
    {
     "data": {
      "image/png": "[encoded data removed]",
      "text/plain": [
       "<Figure size 432x288 with 1 Axes>"
      ]
     },
     "metadata": {
      "needs_background": "light"
     },
     "output_type": "display_data"
    }
   ],
   "source": [
    "plt.plot(y_total, label='Predicted')\n",
    "plt.plot(y_true, label='Training')\n",
    "plt.ylim(0)\n",
    "plt.legend()\n",
    "plt.xlabel('Day')\n",
    "plt.ylabel('Stockprediction')\n",
    "plt.plot()"
   ]
  },
  {
   "cell_type": "code",
   "execution_count": null,
   "metadata": {},
   "outputs": [],
   "source": []
  }
 ],
 "metadata": {
  "kernelspec": {
   "display_name": "Python 3",
   "language": "python",
   "name": "python3"
  },
  "language_info": {
   "codemirror_mode": {
    "name": "ipython",
    "version": 3
   },
   "file_extension": ".py",
   "mimetype": "text/x-python",
   "name": "python",
   "nbconvert_exporter": "python",
   "pygments_lexer": "ipython3",
   "version": "3.8.3"
  }
 },
 "nbformat": 4,
 "nbformat_minor": 4
}
