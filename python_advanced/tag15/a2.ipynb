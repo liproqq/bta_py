{
 "cells": [
  {
   "cell_type": "markdown",
   "metadata": {},
   "source": [
    "#### Imports"
   ]
  },
  {
   "cell_type": "code",
   "execution_count": 5,
   "metadata": {},
   "outputs": [],
   "source": [
    "import numpy as np\n",
    "import pandas as pd\n",
    "import tensorflow as tf\n",
    "\n",
    "from pathlib import Path\n",
    "from tensorflow.keras.preprocessing.text import one_hot\n",
    "from tensorflow.keras.preprocessing.sequence import pad_sequences\n",
    "from tensorflow.keras.models import Sequential\n",
    "from tensorflow.keras.layers import Dense, Flatten, Embedding"
   ]
  },
  {
   "cell_type": "markdown",
   "metadata": {},
   "source": [
    "#### GPU Config"
   ]
  },
  {
   "cell_type": "code",
   "execution_count": 4,
   "metadata": {},
   "outputs": [],
   "source": [
    "config = tf.compat.v1.ConfigProto(gpu_options=tf.compat.v1.GPUOptions(\n",
    "                                    per_process_gpu_memory_fraction=0.8)\n",
    "                                  # device_count = {'GPU': 1}\n",
    "                                  )\n",
    "config.gpu_options.allow_growth = True\n",
    "session = tf.compat.v1.Session(config=config)\n",
    "tf.compat.v1.keras.backend.set_session(session)"
   ]
  },
  {
   "cell_type": "markdown",
   "metadata": {},
   "source": [
    "### Datenset laden und vorbereiten"
   ]
  },
  {
   "cell_type": "code",
   "execution_count": 9,
   "metadata": {},
   "outputs": [
    {
     "name": "stdout",
     "output_type": "stream",
     "text": [
      "                                              review  label\n",
      "0  A very, very, very slow-moving, aimless movie ...      0\n",
      "1  Not sure who was more lost - the flat characte...      0\n",
      "2  Attempting artiness with black & white and cle...      0\n",
      "3       Very little music or anything to speak of.        0\n",
      "4  The best scene in the movie was when Gerardo i...      1\n",
      "[0 1]\n"
     ]
    }
   ],
   "source": [
    "path = Path().resolve() / 'imdb_labelled.txt'\n",
    "df = pd.read_csv(path, sep='\\t', names=['review', 'label'], header=None)\n",
    "\n",
    "# 0 == bad, 1 == good\n",
    "\n",
    "print(df.head())\n",
    "print(df['label'].unique())"
   ]
  },
  {
   "cell_type": "markdown",
   "metadata": {},
   "source": [
    "Größe des Vokabulars bestimmen"
   ]
  },
  {
   "cell_type": "code",
   "execution_count": 34,
   "metadata": {},
   "outputs": [
    {
     "name": "stdout",
     "output_type": "stream",
     "text": [
      "4004\n"
     ]
    }
   ],
   "source": [
    "# alle wörter klein schreiben (jeder Satz endet mit ' ')\n",
    "text = (df['review'] + ' ').str.lower()\n",
    "\n",
    "# bilde einen großen Text (alle einzelnen Texte zusammengefasst)\n",
    "text = text.sum()\n",
    "# spalte nach wörtern\n",
    "text = np.array(text.split())\n",
    "# anzahl der einzigartigen einträge\n",
    "voc_size = len(np.unique(text))\n",
    "print(voc_size)"
   ]
  },
  {
   "cell_type": "markdown",
   "metadata": {},
   "source": [
    "Encoding der Texte  \n",
    "Alle Sequenzen auf gleiche Länge bringen"
   ]
  },
  {
   "cell_type": "code",
   "execution_count": 63,
   "metadata": {},
   "outputs": [
    {
     "name": "stdout",
     "output_type": "stream",
     "text": [
      "[[   0    0    0 ... 2817 2857 1461]\n",
      " [   0    0    0 ... 3749 3982  162]\n",
      " [   0    0    0 ... 2630  732  897]\n",
      " ...\n",
      " [   0    0    0 ... 3039  822 2992]\n",
      " [   0    0    0 ...    0  768 2220]\n",
      " [   0    0    0 ... 1423 2767 1157]]\n"
     ]
    }
   ],
   "source": [
    "features = df['review'].apply(one_hot, args=[voc_size])\n",
    "# print(features)\n",
    "\n",
    "# print(features.apply(len).sort_values().tail(15))\n",
    "\n",
    "b_len = features.apply(len) < 80\n",
    "\n",
    "features = features[b_len]\n",
    "target = df.loc[b_len, 'label']\n",
    "\n",
    "maxlen = features.apply(len).max()\n",
    "\n",
    "features = pad_sequences(features, maxlen=maxlen, padding='pre')\n",
    "\n",
    "print(features)"
   ]
  },
  {
   "cell_type": "markdown",
   "metadata": {},
   "source": [
    "### Modelierung"
   ]
  },
  {
   "cell_type": "code",
   "execution_count": 77,
   "metadata": {},
   "outputs": [
    {
     "name": "stdout",
     "output_type": "stream",
     "text": [
      "Model: \"sequential_4\"\n",
      "_________________________________________________________________\n",
      "Layer (type)                 Output Shape              Param #   \n",
      "=================================================================\n",
      "embedding_4 (Embedding)      (None, 73, 8)             32040     \n",
      "_________________________________________________________________\n",
      "flatten_4 (Flatten)          (None, 584)               0         \n",
      "_________________________________________________________________\n",
      "dense_4 (Dense)              (None, 1)                 585       \n",
      "=================================================================\n",
      "Total params: 32,625\n",
      "Trainable params: 32,625\n",
      "Non-trainable params: 0\n",
      "_________________________________________________________________\n",
      "None\n"
     ]
    }
   ],
   "source": [
    "model = Sequential()\n",
    "model.add(Embedding(voc_size + 1, 8, input_length=maxlen))\n",
    "model.add(Flatten())\n",
    "model.add(Dense(1, activation='sigmoid'))\n",
    "\n",
    "model.compile(optimizer='adam', loss='binary_crossentropy', metrics=['acc'])\n",
    "\n",
    "print(model.summary())"
   ]
  },
  {
   "cell_type": "code",
   "execution_count": 78,
   "metadata": {},
   "outputs": [],
   "source": [
    "from sklearn.model_selection import train_test_split\n",
    "\n",
    "X_train, X_test, y_train, y_test = train_test_split(features, target,\n",
    "                                                    test_size=0.2,\n",
    "                                                    random_state=42)"
   ]
  },
  {
   "cell_type": "code",
   "execution_count": 79,
   "metadata": {},
   "outputs": [
    {
     "name": "stdout",
     "output_type": "stream",
     "text": [
      "Epoch 1/100\n",
      "20/20 [==============================] - 0s 13ms/step - loss: 0.6928 - acc: 0.4862 - val_loss: 0.6933 - val_acc: 0.4870\n",
      "Epoch 2/100\n",
      "20/20 [==============================] - 0s 5ms/step - loss: 0.6857 - acc: 0.5593 - val_loss: 0.6958 - val_acc: 0.4610\n",
      "Epoch 3/100\n",
      "20/20 [==============================] - 0s 7ms/step - loss: 0.6793 - acc: 0.5350 - val_loss: 0.6969 - val_acc: 0.4610\n",
      "Epoch 4/100\n",
      "20/20 [==============================] - 0s 7ms/step - loss: 0.6713 - acc: 0.5545 - val_loss: 0.6943 - val_acc: 0.4610\n",
      "Epoch 5/100\n",
      "20/20 [==============================] - 0s 7ms/step - loss: 0.6612 - acc: 0.5724 - val_loss: 0.6947 - val_acc: 0.4675\n",
      "Epoch 6/100\n",
      "20/20 [==============================] - 0s 7ms/step - loss: 0.6467 - acc: 0.8081 - val_loss: 0.6902 - val_acc: 0.5325\n",
      "Epoch 7/100\n",
      "20/20 [==============================] - 0s 7ms/step - loss: 0.6292 - acc: 0.9252 - val_loss: 0.6888 - val_acc: 0.5519\n",
      "Epoch 8/100\n",
      "20/20 [==============================] - 0s 6ms/step - loss: 0.6079 - acc: 0.9512 - val_loss: 0.6867 - val_acc: 0.5519\n",
      "Epoch 9/100\n",
      "20/20 [==============================] - 0s 6ms/step - loss: 0.5833 - acc: 0.9659 - val_loss: 0.6839 - val_acc: 0.5649\n",
      "Epoch 10/100\n",
      "20/20 [==============================] - 0s 6ms/step - loss: 0.5556 - acc: 0.9724 - val_loss: 0.6809 - val_acc: 0.5584\n",
      "Epoch 11/100\n",
      "20/20 [==============================] - 0s 6ms/step - loss: 0.5256 - acc: 0.9837 - val_loss: 0.6771 - val_acc: 0.5974\n",
      "Epoch 12/100\n",
      "20/20 [==============================] - 0s 6ms/step - loss: 0.4934 - acc: 0.9821 - val_loss: 0.6754 - val_acc: 0.5779\n",
      "Epoch 13/100\n",
      "20/20 [==============================] - 0s 6ms/step - loss: 0.4613 - acc: 0.9821 - val_loss: 0.6717 - val_acc: 0.6039\n",
      "Epoch 14/100\n",
      "20/20 [==============================] - 0s 15ms/step - loss: 0.4288 - acc: 0.9870 - val_loss: 0.6663 - val_acc: 0.6364\n",
      "Epoch 15/100\n",
      "20/20 [==============================] - 0s 8ms/step - loss: 0.3974 - acc: 0.9870 - val_loss: 0.6658 - val_acc: 0.6169\n",
      "Epoch 16/100\n",
      "20/20 [==============================] - 0s 10ms/step - loss: 0.3670 - acc: 0.9870 - val_loss: 0.6621 - val_acc: 0.6169\n",
      "Epoch 17/100\n",
      "20/20 [==============================] - 0s 11ms/step - loss: 0.3391 - acc: 0.9886 - val_loss: 0.6562 - val_acc: 0.5974\n",
      "Epoch 18/100\n",
      "20/20 [==============================] - 0s 8ms/step - loss: 0.3125 - acc: 0.9886 - val_loss: 0.6588 - val_acc: 0.5974\n",
      "Epoch 19/100\n",
      "20/20 [==============================] - 0s 8ms/step - loss: 0.2875 - acc: 0.9902 - val_loss: 0.6565 - val_acc: 0.6039\n",
      "Epoch 20/100\n",
      "20/20 [==============================] - 0s 8ms/step - loss: 0.2652 - acc: 0.9902 - val_loss: 0.6555 - val_acc: 0.6039\n",
      "Epoch 21/100\n",
      "20/20 [==============================] - 0s 7ms/step - loss: 0.2441 - acc: 0.9902 - val_loss: 0.6535 - val_acc: 0.6104\n",
      "Epoch 22/100\n",
      "20/20 [==============================] - 0s 7ms/step - loss: 0.2256 - acc: 0.9902 - val_loss: 0.6529 - val_acc: 0.5909\n",
      "Epoch 23/100\n",
      "20/20 [==============================] - 0s 7ms/step - loss: 0.2079 - acc: 0.9902 - val_loss: 0.6552 - val_acc: 0.6039\n",
      "Epoch 24/100\n",
      "20/20 [==============================] - 0s 6ms/step - loss: 0.1924 - acc: 0.9902 - val_loss: 0.6559 - val_acc: 0.5974\n",
      "Epoch 25/100\n",
      "20/20 [==============================] - 0s 5ms/step - loss: 0.1779 - acc: 0.9919 - val_loss: 0.6529 - val_acc: 0.6039\n",
      "Epoch 26/100\n",
      "20/20 [==============================] - 0s 6ms/step - loss: 0.1653 - acc: 0.9919 - val_loss: 0.6544 - val_acc: 0.5974\n",
      "Epoch 27/100\n",
      "20/20 [==============================] - 0s 6ms/step - loss: 0.1535 - acc: 0.9951 - val_loss: 0.6565 - val_acc: 0.5844\n",
      "Epoch 28/100\n",
      "20/20 [==============================] - 0s 6ms/step - loss: 0.1432 - acc: 0.9919 - val_loss: 0.6596 - val_acc: 0.6039\n",
      "Epoch 29/100\n",
      "20/20 [==============================] - 0s 6ms/step - loss: 0.1330 - acc: 0.9919 - val_loss: 0.6589 - val_acc: 0.5909\n",
      "Epoch 30/100\n",
      "20/20 [==============================] - 0s 6ms/step - loss: 0.1241 - acc: 0.9951 - val_loss: 0.6636 - val_acc: 0.5909\n",
      "Epoch 31/100\n",
      "20/20 [==============================] - 0s 7ms/step - loss: 0.1160 - acc: 0.9951 - val_loss: 0.6626 - val_acc: 0.5844\n",
      "Epoch 32/100\n",
      "20/20 [==============================] - 0s 7ms/step - loss: 0.1085 - acc: 0.9967 - val_loss: 0.6640 - val_acc: 0.5909\n",
      "Epoch 33/100\n",
      "20/20 [==============================] - 0s 6ms/step - loss: 0.1020 - acc: 0.9951 - val_loss: 0.6682 - val_acc: 0.5909\n",
      "Epoch 34/100\n",
      "20/20 [==============================] - 0s 6ms/step - loss: 0.0956 - acc: 0.9967 - val_loss: 0.6662 - val_acc: 0.5844\n",
      "Epoch 35/100\n",
      "20/20 [==============================] - 0s 7ms/step - loss: 0.0897 - acc: 0.9967 - val_loss: 0.6710 - val_acc: 0.6039\n",
      "Epoch 36/100\n",
      "20/20 [==============================] - 0s 8ms/step - loss: 0.0847 - acc: 0.9967 - val_loss: 0.6739 - val_acc: 0.6039\n",
      "Epoch 37/100\n",
      "20/20 [==============================] - 0s 9ms/step - loss: 0.0796 - acc: 0.9984 - val_loss: 0.6747 - val_acc: 0.6039\n",
      "Epoch 38/100\n",
      "20/20 [==============================] - 0s 7ms/step - loss: 0.0752 - acc: 0.9984 - val_loss: 0.6759 - val_acc: 0.5844\n",
      "Epoch 39/100\n",
      "20/20 [==============================] - 0s 7ms/step - loss: 0.0709 - acc: 0.9984 - val_loss: 0.6790 - val_acc: 0.5909\n",
      "Epoch 40/100\n",
      "20/20 [==============================] - 0s 7ms/step - loss: 0.0671 - acc: 0.9984 - val_loss: 0.6839 - val_acc: 0.5909\n",
      "Epoch 41/100\n",
      "20/20 [==============================] - 0s 6ms/step - loss: 0.0633 - acc: 0.9984 - val_loss: 0.6850 - val_acc: 0.5974\n",
      "Epoch 42/100\n",
      "20/20 [==============================] - 0s 5ms/step - loss: 0.0600 - acc: 0.9984 - val_loss: 0.6868 - val_acc: 0.6039\n",
      "Epoch 43/100\n",
      "20/20 [==============================] - 0s 5ms/step - loss: 0.0571 - acc: 0.9984 - val_loss: 0.6888 - val_acc: 0.6039\n",
      "Epoch 44/100\n",
      "20/20 [==============================] - 0s 5ms/step - loss: 0.0543 - acc: 0.9984 - val_loss: 0.6909 - val_acc: 0.5974\n",
      "Epoch 45/100\n",
      "20/20 [==============================] - 0s 5ms/step - loss: 0.0513 - acc: 0.9984 - val_loss: 0.6975 - val_acc: 0.5844\n",
      "Epoch 46/100\n",
      "20/20 [==============================] - 0s 5ms/step - loss: 0.0488 - acc: 0.9984 - val_loss: 0.6986 - val_acc: 0.6039\n",
      "Epoch 47/100\n",
      "20/20 [==============================] - 0s 5ms/step - loss: 0.0466 - acc: 0.9984 - val_loss: 0.7000 - val_acc: 0.5974\n",
      "Epoch 48/100\n",
      "20/20 [==============================] - 0s 6ms/step - loss: 0.0443 - acc: 0.9984 - val_loss: 0.7056 - val_acc: 0.5844\n",
      "Epoch 49/100\n",
      "20/20 [==============================] - 0s 5ms/step - loss: 0.0422 - acc: 0.9984 - val_loss: 0.7072 - val_acc: 0.5974\n",
      "Epoch 50/100\n",
      "20/20 [==============================] - 0s 6ms/step - loss: 0.0404 - acc: 0.9984 - val_loss: 0.7082 - val_acc: 0.5974\n",
      "Epoch 51/100\n",
      "20/20 [==============================] - 0s 7ms/step - loss: 0.0385 - acc: 0.9984 - val_loss: 0.7125 - val_acc: 0.5974\n",
      "Epoch 52/100\n",
      "20/20 [==============================] - 0s 6ms/step - loss: 0.0368 - acc: 0.9984 - val_loss: 0.7161 - val_acc: 0.5974\n",
      "Epoch 53/100\n",
      "20/20 [==============================] - 0s 6ms/step - loss: 0.0353 - acc: 1.0000 - val_loss: 0.7178 - val_acc: 0.5909\n",
      "Epoch 54/100\n",
      "20/20 [==============================] - 0s 7ms/step - loss: 0.0338 - acc: 1.0000 - val_loss: 0.7219 - val_acc: 0.5974\n",
      "Epoch 55/100\n",
      "20/20 [==============================] - 0s 7ms/step - loss: 0.0323 - acc: 0.9984 - val_loss: 0.7268 - val_acc: 0.5909\n",
      "Epoch 56/100\n",
      "20/20 [==============================] - 0s 6ms/step - loss: 0.0310 - acc: 1.0000 - val_loss: 0.7289 - val_acc: 0.5909\n",
      "Epoch 57/100\n",
      "20/20 [==============================] - 0s 7ms/step - loss: 0.0297 - acc: 1.0000 - val_loss: 0.7288 - val_acc: 0.5974\n",
      "Epoch 58/100\n",
      "20/20 [==============================] - 0s 6ms/step - loss: 0.0287 - acc: 1.0000 - val_loss: 0.7278 - val_acc: 0.5974\n",
      "Epoch 59/100\n",
      "20/20 [==============================] - 0s 6ms/step - loss: 0.0274 - acc: 1.0000 - val_loss: 0.7337 - val_acc: 0.5974\n",
      "Epoch 60/100\n",
      "20/20 [==============================] - 0s 7ms/step - loss: 0.0263 - acc: 1.0000 - val_loss: 0.7376 - val_acc: 0.5974\n",
      "Epoch 61/100\n",
      "20/20 [==============================] - 0s 6ms/step - loss: 0.0253 - acc: 1.0000 - val_loss: 0.7395 - val_acc: 0.5974\n",
      "Epoch 62/100\n",
      "20/20 [==============================] - 0s 7ms/step - loss: 0.0243 - acc: 1.0000 - val_loss: 0.7416 - val_acc: 0.5974\n",
      "Epoch 63/100\n"
     ]
    },
    {
     "name": "stdout",
     "output_type": "stream",
     "text": [
      "20/20 [==============================] - 0s 6ms/step - loss: 0.0234 - acc: 1.0000 - val_loss: 0.7435 - val_acc: 0.5974\n",
      "Epoch 64/100\n",
      "20/20 [==============================] - 0s 6ms/step - loss: 0.0226 - acc: 1.0000 - val_loss: 0.7470 - val_acc: 0.5909\n",
      "Epoch 65/100\n",
      "20/20 [==============================] - 0s 7ms/step - loss: 0.0217 - acc: 1.0000 - val_loss: 0.7473 - val_acc: 0.5909\n",
      "Epoch 66/100\n",
      "20/20 [==============================] - 0s 7ms/step - loss: 0.0209 - acc: 1.0000 - val_loss: 0.7510 - val_acc: 0.5974\n",
      "Epoch 67/100\n",
      "20/20 [==============================] - 0s 7ms/step - loss: 0.0202 - acc: 1.0000 - val_loss: 0.7543 - val_acc: 0.5974\n",
      "Epoch 68/100\n",
      "20/20 [==============================] - 0s 7ms/step - loss: 0.0195 - acc: 1.0000 - val_loss: 0.7557 - val_acc: 0.5974\n",
      "Epoch 69/100\n",
      "20/20 [==============================] - 0s 7ms/step - loss: 0.0188 - acc: 1.0000 - val_loss: 0.7578 - val_acc: 0.5974\n",
      "Epoch 70/100\n",
      "20/20 [==============================] - 0s 7ms/step - loss: 0.0181 - acc: 1.0000 - val_loss: 0.7610 - val_acc: 0.5909\n",
      "Epoch 71/100\n",
      "20/20 [==============================] - 0s 7ms/step - loss: 0.0175 - acc: 1.0000 - val_loss: 0.7628 - val_acc: 0.5974\n",
      "Epoch 72/100\n",
      "20/20 [==============================] - 0s 8ms/step - loss: 0.0169 - acc: 1.0000 - val_loss: 0.7652 - val_acc: 0.5909\n",
      "Epoch 73/100\n",
      "20/20 [==============================] - 0s 7ms/step - loss: 0.0164 - acc: 1.0000 - val_loss: 0.7665 - val_acc: 0.5974\n",
      "Epoch 74/100\n",
      "20/20 [==============================] - 0s 7ms/step - loss: 0.0158 - acc: 1.0000 - val_loss: 0.7691 - val_acc: 0.5974\n",
      "Epoch 75/100\n",
      "20/20 [==============================] - 0s 7ms/step - loss: 0.0153 - acc: 1.0000 - val_loss: 0.7718 - val_acc: 0.5974\n",
      "Epoch 76/100\n",
      "20/20 [==============================] - 0s 6ms/step - loss: 0.0148 - acc: 1.0000 - val_loss: 0.7748 - val_acc: 0.5909\n",
      "Epoch 77/100\n",
      "20/20 [==============================] - 0s 7ms/step - loss: 0.0144 - acc: 1.0000 - val_loss: 0.7771 - val_acc: 0.5909\n",
      "Epoch 78/100\n",
      "20/20 [==============================] - 0s 7ms/step - loss: 0.0139 - acc: 1.0000 - val_loss: 0.7794 - val_acc: 0.5909\n",
      "Epoch 79/100\n",
      "20/20 [==============================] - 0s 7ms/step - loss: 0.0135 - acc: 1.0000 - val_loss: 0.7815 - val_acc: 0.5909\n",
      "Epoch 80/100\n",
      "20/20 [==============================] - 0s 7ms/step - loss: 0.0131 - acc: 1.0000 - val_loss: 0.7828 - val_acc: 0.6039\n",
      "Epoch 81/100\n",
      "20/20 [==============================] - 0s 9ms/step - loss: 0.0127 - acc: 1.0000 - val_loss: 0.7848 - val_acc: 0.5974\n",
      "Epoch 82/100\n",
      "20/20 [==============================] - 0s 10ms/step - loss: 0.0123 - acc: 1.0000 - val_loss: 0.7882 - val_acc: 0.5974\n",
      "Epoch 83/100\n",
      "20/20 [==============================] - 0s 10ms/step - loss: 0.0119 - acc: 1.0000 - val_loss: 0.7899 - val_acc: 0.5974\n",
      "Epoch 84/100\n",
      "20/20 [==============================] - 0s 9ms/step - loss: 0.0116 - acc: 1.0000 - val_loss: 0.7921 - val_acc: 0.5974\n",
      "Epoch 85/100\n",
      "20/20 [==============================] - 0s 10ms/step - loss: 0.0112 - acc: 1.0000 - val_loss: 0.7948 - val_acc: 0.5974\n",
      "Epoch 86/100\n",
      "20/20 [==============================] - 0s 8ms/step - loss: 0.0109 - acc: 1.0000 - val_loss: 0.7960 - val_acc: 0.5974\n",
      "Epoch 87/100\n",
      "20/20 [==============================] - 0s 8ms/step - loss: 0.0106 - acc: 1.0000 - val_loss: 0.7974 - val_acc: 0.5909\n",
      "Epoch 88/100\n",
      "20/20 [==============================] - 0s 8ms/step - loss: 0.0103 - acc: 1.0000 - val_loss: 0.8035 - val_acc: 0.6039\n",
      "Epoch 89/100\n",
      "20/20 [==============================] - 0s 7ms/step - loss: 0.0100 - acc: 1.0000 - val_loss: 0.8061 - val_acc: 0.6039\n",
      "Epoch 90/100\n",
      "20/20 [==============================] - 0s 9ms/step - loss: 0.0097 - acc: 1.0000 - val_loss: 0.8068 - val_acc: 0.6039\n",
      "Epoch 91/100\n",
      "20/20 [==============================] - 0s 8ms/step - loss: 0.0094 - acc: 1.0000 - val_loss: 0.8087 - val_acc: 0.6039\n",
      "Epoch 92/100\n",
      "20/20 [==============================] - 0s 7ms/step - loss: 0.0092 - acc: 1.0000 - val_loss: 0.8107 - val_acc: 0.6039\n",
      "Epoch 93/100\n",
      "20/20 [==============================] - 0s 9ms/step - loss: 0.0089 - acc: 1.0000 - val_loss: 0.8115 - val_acc: 0.5974\n",
      "Epoch 94/100\n",
      "20/20 [==============================] - 0s 11ms/step - loss: 0.0087 - acc: 1.0000 - val_loss: 0.8125 - val_acc: 0.5974\n",
      "Epoch 95/100\n",
      "20/20 [==============================] - 0s 10ms/step - loss: 0.0085 - acc: 1.0000 - val_loss: 0.8154 - val_acc: 0.5974\n",
      "Epoch 96/100\n",
      "20/20 [==============================] - 0s 9ms/step - loss: 0.0082 - acc: 1.0000 - val_loss: 0.8172 - val_acc: 0.5974\n",
      "Epoch 97/100\n",
      "20/20 [==============================] - 0s 11ms/step - loss: 0.0080 - acc: 1.0000 - val_loss: 0.8204 - val_acc: 0.6039\n",
      "Epoch 98/100\n",
      "20/20 [==============================] - 0s 8ms/step - loss: 0.0078 - acc: 1.0000 - val_loss: 0.8209 - val_acc: 0.5909\n",
      "Epoch 99/100\n",
      "20/20 [==============================] - 0s 8ms/step - loss: 0.0076 - acc: 1.0000 - val_loss: 0.8249 - val_acc: 0.6039\n",
      "Epoch 100/100\n",
      "20/20 [==============================] - 0s 7ms/step - loss: 0.0074 - acc: 1.0000 - val_loss: 0.8273 - val_acc: 0.6039\n"
     ]
    }
   ],
   "source": [
    "history = model.fit(X_train, y_train, epochs=100,\n",
    "                    validation_data=(X_test, y_test))"
   ]
  },
  {
   "cell_type": "code",
   "execution_count": 80,
   "metadata": {},
   "outputs": [
    {
     "data": {
      "image/png": "[encoded data removed]",
      "text/plain": [
       "<Figure size 432x288 with 1 Axes>"
      ]
     },
     "metadata": {
      "needs_background": "light"
     },
     "output_type": "display_data"
    }
   ],
   "source": [
    "import matplotlib.pyplot as plt\n",
    "\n",
    "plt.plot(history.history['acc'], label='acc')\n",
    "plt.plot(history.history['val_acc'], label='val_acc')\n",
    "plt.xlabel('Epoch')\n",
    "plt.ylabel('Accuracy')\n",
    "plt.legend()\n",
    "plt.show()"
   ]
  },
  {
   "cell_type": "code",
   "execution_count": null,
   "metadata": {},
   "outputs": [],
   "source": []
  }
 ],
 "metadata": {
  "kernelspec": {
   "display_name": "Python 3",
   "language": "python",
   "name": "python3"
  },
  "language_info": {
   "codemirror_mode": {
    "name": "ipython",
    "version": 3
   },
   "file_extension": ".py",
   "mimetype": "text/x-python",
   "name": "python",
   "nbconvert_exporter": "python",
   "pygments_lexer": "ipython3",
   "version": "3.8.3"
  }
 },
 "nbformat": 4,
 "nbformat_minor": 4
}
